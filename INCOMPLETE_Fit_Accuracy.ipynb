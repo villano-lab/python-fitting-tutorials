{
 "cells": [
  {
   "cell_type": "markdown",
   "metadata": {},
   "source": [
    "# Exploring Accuracy of Fits\n",
    "\n",
    "Our fits before were relatively accurate. Let's explore the accuracy of fits under some different situations."
   ]
  },
  {
   "cell_type": "code",
   "execution_count": null,
   "metadata": {},
   "outputs": [],
   "source": [
    "#Imports\n",
    "import numpy as np\n",
    "import lmfit as lf\n",
    "import matplotlib.pyplot as plt"
   ]
  },
  {
   "cell_type": "markdown",
   "metadata": {},
   "source": [
    "### Setup\n",
    "\n",
    "Let's use a sine function this time instead of the quadratic.</br>\n",
    "Otherwise, our setup will be more or less the same."
   ]
  },
  {
   "cell_type": "code",
   "execution_count": null,
   "metadata": {},
   "outputs": [],
   "source": [
    "#Function Setup - y = f(x) = sin(x)\n",
    "\n",
    "#Fakedata\n",
    "xdata = np.linspace(0,10,50)\n",
    "ydata = np.zeros(len(xdata))\n",
    "noise = np.random.normal(0,1,len(xdata))\n",
    "for i,n in enumerate(xdata):\n",
    "    ydata[i] = np.sin(n)+noise[i]\n",
    "sigdata = np.ones(len(xdata))\n",
    "\n",
    "#Function\n",
    "def f(x,a,b,c):\n",
    "    return a*np.sin(b*x+c)\n",
    "\n",
    "#Points representing function - this is necessary to plot f(x) for our comparison.\n",
    "ycurve = np.sin(xdata)"
   ]
  },
  {
   "cell_type": "code",
   "execution_count": null,
   "metadata": {},
   "outputs": [],
   "source": [
    "### Try 1: Three-Parameter Fit\n",
    "\n",
    "#Setup\n",
    "weighdata = 1/sigdata\n",
    "l_mod = lf.Model(f)\n",
    "params = l_mod.make_params(a=1, b=0, c=0)\n",
    "\n",
    "#Do fit\n",
    "l_fit = l_mod.fit(ydata, params, x=xdata, weights=weighdata)\n",
    "\n",
    "#Define Stuff\n",
    "l_dict = l_fit.best_values\n",
    "l_a = l_dict['a'] \n",
    "l_b = l_dict['b']\n",
    "l_c = l_dict['c']\n",
    "\n",
    "#Create array to plot\n",
    "l_curve = l_a*np.sin(l_b*xdata+l_c)\n",
    "\n",
    "#Plotting\n",
    "fig = plt.figure(figsize=(9.0,8.0))\n",
    "\n",
    "plt.errorbar(xdata,ydata,yerr=sigdata,fmt='bo',label='Data')\n",
    "plt.plot(xdata,ycurve,label='Function')\n",
    "plt.plot(xdata,l_curve,linestyle='--',label='LmFit')\n",
    "\n",
    "plt.legend()\n",
    "plt.show()"
   ]
  },
  {
   "cell_type": "markdown",
   "metadata": {},
   "source": [
    "That's definitely not correct. This is basically a flat line! Take a look at the parameters; we should have changed b to 1."
   ]
  },
  {
   "cell_type": "code",
   "execution_count": null,
   "metadata": {},
   "outputs": [],
   "source": [
    "### Try 1: Three-Parameter Fit\n",
    "\n",
    "params = l_mod.make_params(a=1, b=1, c=0) #Fixed\n",
    "\n",
    "#Do fit\n",
    "l_fit = l_mod.fit(ydata, params, x=xdata, weights=weighdata)\n",
    "\n",
    "#Define Stuff\n",
    "l_dict = l_fit.best_values\n",
    "l_a = l_dict['a'] \n",
    "l_b = l_dict['b']\n",
    "l_c = l_dict['c']\n",
    "\n",
    "#Create array to plot\n",
    "l_curve = l_a*np.sin(l_b*xdata+l_c)\n",
    "\n",
    "#Plotting\n",
    "fig = plt.figure(figsize=(9.0,8.0))\n",
    "\n",
    "plt.errorbar(xdata,ydata,yerr=sigdata,fmt='bo',label='Data')\n",
    "plt.plot(xdata,ycurve,label='Function')\n",
    "plt.plot(xdata,l_curve,linestyle='--',label='LmFit')\n",
    "\n",
    "plt.legend()\n",
    "plt.show()\n",
    "\n",
    "l_fit"
   ]
  },
  {
   "cell_type": "markdown",
   "metadata": {},
   "source": [
    "Not bad!"
   ]
  },
  {
   "cell_type": "markdown",
   "metadata": {},
   "source": [
    "### No Initial Guesses\n",
    "\n",
    "It seems like the initial condition makes a pretty big difference. What happens if there are none?"
   ]
  },
  {
   "cell_type": "code",
   "execution_count": null,
   "metadata": {},
   "outputs": [],
   "source": [
    "### Try 1: Three-Parameter Fit\n",
    "\n",
    "params = l_mod.make_params() #Removed initials\n",
    "params.add('a')\n",
    "params.add('b')\n",
    "params.add('c')\n",
    "\n",
    "#Do fit\n",
    "l_fit = l_mod.fit(ydata, params, x=xdata, weights=weighdata)\n",
    "\n",
    "#Define Stuff\n",
    "l_dict = l_fit.best_values\n",
    "l_a = l_dict['a'] \n",
    "l_b = l_dict['b']\n",
    "l_c = l_dict['c']\n",
    "\n",
    "#Create array to plot\n",
    "l_curve = l_a*np.sin(l_b*xdata+l_c)\n",
    "\n",
    "#Plotting\n",
    "fig = plt.figure(figsize=(9.0,8.0))\n",
    "\n",
    "plt.errorbar(xdata,ydata,yerr=sigdata,fmt='bo',label='Data')\n",
    "plt.plot(xdata,ycurve,label='Function')\n",
    "plt.plot(xdata,l_curve,linestyle='--',label='LmFit')\n",
    "\n",
    "plt.legend()\n",
    "plt.show()\n",
    "\n",
    "l_fit"
   ]
  },
  {
   "cell_type": "code",
   "execution_count": null,
   "metadata": {},
   "outputs": [],
   "source": []
  }
 ],
 "metadata": {
  "kernelspec": {
   "display_name": "Python 3",
   "language": "python",
   "name": "python3"
  },
  "language_info": {
   "codemirror_mode": {
    "name": "ipython",
    "version": 3
   },
   "file_extension": ".py",
   "mimetype": "text/x-python",
   "name": "python",
   "nbconvert_exporter": "python",
   "pygments_lexer": "ipython3",
   "version": "3.7.3"
  }
 },
 "nbformat": 4,
 "nbformat_minor": 2
}
