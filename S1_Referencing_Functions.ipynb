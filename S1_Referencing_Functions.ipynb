{
 "cells": [
  {
   "cell_type": "markdown",
   "metadata": {},
   "source": [
    "# Referencing Functions\n",
    "*This is a supplemental tutorial dealing with functions. It focuses more on functions than it does on fitting.*\n",
    "\n",
    "Up to this point, our functions have all been one, singular function. For example:"
   ]
  },
  {
   "cell_type": "raw",
   "metadata": {},
   "source": [
    "def f(x,a,b,c):\n",
    "    return a*x**2+b*x+c"
   ]
  },
  {
   "cell_type": "markdown",
   "metadata": {},
   "source": [
    "This function is entirely self-contained. \n",
    "There is one definition which uses only one line and doesn't depend on anything else.\n",
    "\n",
    "What if we have a very complex function? Writing it all in one line might lead to mistakes if our function becomes difficult to read:"
   ]
  },
  {
   "cell_type": "raw",
   "metadata": {},
   "source": [
    "def f(n,a):\n",
    "    return scipy.integrate.quad((numpy.power(np.power(np.sqrt(a*x**2),(np.exp(x)+np.power(np.sqrt(np.exp(np.exp(a*x))),a*x**2)))),0,n,x)"
   ]
  },
  {
   "cell_type": "markdown",
   "metadata": {},
   "source": [
    "Let's try to redefine this function in a way that's easier to read."
   ]
  },
  {
   "cell_type": "code",
   "execution_count": 1,
   "metadata": {},
   "outputs": [
    {
     "name": "stdout",
     "output_type": "stream",
     "text": [
      "0.2194897612484102\n"
     ]
    }
   ],
   "source": [
    "#Imports\n",
    "import numpy as np\n",
    "from scipy.integrate import quad\n",
    "\n",
    "def f(n,a):\n",
    "    l = lambda x: np.sqrt(a*x**2)\n",
    "    r = lambda x: (np.exp(x)+np.power(np.sqrt(np.exp(np.exp(a*x))),a*x**2))\n",
    "    i = lambda x: np.power(l(x),r(x)) #This is the integrand from the above function.\n",
    "    #i isn't defined outside of this indented region because it's not the definition that we're returning. It's just an intermediate step.\n",
    "    return quad(i,0,n)[0] #Integrate i from 0 to n with respect to x. \n",
    "    #The [0] indicates that we want the 0th element, which is the integral result. The 1st element is uncertainty.\n",
    "    \n",
    "print(f(1,1)) #Test that syntax is valid by printing a value"
   ]
  },
  {
   "cell_type": "markdown",
   "metadata": {},
   "source": [
    "It's possible to clean things up more, but since that's not our end goal, let's move on. \n",
    "If we did clean it up more, we could use pretty much as many intermediate steps as we wanted.\n",
    "\n",
    "Let's try with a function that's a bit more familiar to us, so that we can be sure we're plugging things in correctly.</br>"
   ]
  },
  {
   "cell_type": "code",
   "execution_count": 2,
   "metadata": {},
   "outputs": [],
   "source": [
    "def f(x,a,b,c):\n",
    "    q = a*x**2   #Quadratic term\n",
    "    l = b*x      #Linear term\n",
    "    k = c        #Constant term\n",
    "    return q+l+k #Total is a*x**2 + b*x + c -- our original function from the first tutorial!\n",
    "\n",
    "y = lambda x: f(x,1,0,0) #Our true function y = f(x) = x^2"
   ]
  },
  {
   "cell_type": "markdown",
   "metadata": {},
   "source": [
    "Now let's plot to check that the function looks how we wanted it to."
   ]
  },
  {
   "cell_type": "code",
   "execution_count": 3,
   "metadata": {},
   "outputs": [
    {
     "data": {
      "text/plain": [
       "<Figure size 900x800 with 1 Axes>"
      ]
     },
     "metadata": {},
     "output_type": "display_data"
    }
   ],
   "source": [
    "#Imports\n",
    "import matplotlib.pyplot as plt\n",
    "\n",
    "#Set up x-values to plot the curve\n",
    "xdata = np.linspace(0,5,100)\n",
    "\n",
    "#Plotting\n",
    "fig = plt.figure(figsize=(9.0,8.0))\n",
    "plt.plot(xdata,y(xdata)) #We skipped the legend definition since we only have one thing to plot.\n",
    "plt.show()"
   ]
  },
  {
   "cell_type": "markdown",
   "metadata": {},
   "source": [
    "That looks about right! So the big question now is: can we do a curve fit with the definitions set up like this?"
   ]
  },
  {
   "cell_type": "code",
   "execution_count": 4,
   "metadata": {},
   "outputs": [
    {
     "data": {
      "image/png": "[encoded data removed]",
      "text/plain": [
       "<Figure size 648x576 with 1 Axes>"
      ]
     },
     "metadata": {
      "needs_background": "light"
     },
     "output_type": "display_data"
    },
    {
     "data": {
      "text/html": [
       "<h2> Model</h2> Model(f) <h2>Fit Statistics</h2><table><tr><td>fitting method</td><td>leastsq</td><td></td></tr><tr><td># function evals</td><td>8</td><td></td></tr><tr><td># data points</td><td>100</td><td></td></tr><tr><td># variables</td><td>3</td><td></td></tr><tr><td>chi-square</td><td> 101.245867</td><td></td></tr><tr><td>reduced chi-square</td><td> 1.04377183</td><td></td></tr><tr><td>Akaike info crit.</td><td> 7.23817020</td><td></td></tr><tr><td>Bayesian info crit.</td><td> 15.0536808</td><td></td></tr></table><h2>Variables</h2><table><tr><th> name </th><th> value </th><th> standard error </th><th> relative error </th><th> initial value </th><th> min </th><th> max </th><th> vary </th></tr><tr><td> a </td><td>  0.93130094 </td><td>  0.05374994 </td><td> 5.77% </td><td> 1 </td><td>        -inf </td><td>         inf </td><td> True </td></tr><tr><td> b </td><td>  0.39897997 </td><td>  0.27773604 </td><td> 69.61% </td><td> 0 </td><td>        -inf </td><td>         inf </td><td> True </td></tr><tr><td> c </td><td> -0.53449006 </td><td>  0.30046611 </td><td> -56.22% </td><td> 0 </td><td>        -inf </td><td>         inf </td><td> True </td></tr></table><h2>Correlations (unreported correlations are < 0.100)</h2><table><tr><td>a</td><td>b</td><td>-0.9676</td></tr><tr><td>b</td><td>c</td><td>-0.8611</td></tr><tr><td>a</td><td>c</td><td>0.7378</td></tr></table>"
      ],
      "text/plain": [
       "<lmfit.model.ModelResult at 0x7ffd42d6ec50>"
      ]
     },
     "execution_count": 4,
     "metadata": {},
     "output_type": "execute_result"
    }
   ],
   "source": [
    "#Import\n",
    "import lmfit as lf\n",
    "\n",
    "#Generate fakedata\n",
    "ydata = np.zeros(len(xdata))\n",
    "noise = np.random.normal(0,1,len(xdata))\n",
    "for i,n in enumerate(xdata):\n",
    "    ydata[i] = n**2+noise[i]\n",
    "sigdata = np.ones(len(xdata))\n",
    "weighdata = 1/sigdata\n",
    "\n",
    "#Fit\n",
    "l_mod = lf.Model(f)\n",
    "params = l_mod.make_params(a=1, b=0, c=0)\n",
    "l_fit = l_mod.fit(ydata, params, x=xdata, weights=weighdata)\n",
    "l_dict = l_fit.best_values\n",
    "l_a = l_dict['a']\n",
    "l_b = l_dict['b']\n",
    "l_c = l_dict['c']\n",
    "l_curve = l_a*xdata**2+l_b*xdata+l_c\n",
    "\n",
    "#Plot\n",
    "fig = plt.figure(figsize=(9.0,8.0))\n",
    "plt.errorbar(xdata,ydata,yerr=sigdata,fmt='bo',label='Data')\n",
    "plt.plot(xdata,y(xdata),label='Function')\n",
    "plt.plot(xdata,l_curve,linestyle='--',label='Fit')\n",
    "plt.legend()\n",
    "plt.show()\n",
    "\n",
    "#More info\n",
    "l_fit"
   ]
  },
  {
   "cell_type": "markdown",
   "metadata": {},
   "source": [
    "----\n",
    "As a quick comparison, let's look at the fit done how we did it before, with everything done in one line:"
   ]
  },
  {
   "cell_type": "code",
   "execution_count": 5,
   "metadata": {},
   "outputs": [
    {
     "data": {
      "text/html": [
       "<h2> Model</h2> Model(f) <h2>Fit Statistics</h2><table><tr><td>fitting method</td><td>leastsq</td><td></td></tr><tr><td># function evals</td><td>8</td><td></td></tr><tr><td># data points</td><td>100</td><td></td></tr><tr><td># variables</td><td>3</td><td></td></tr><tr><td>chi-square</td><td> 101.245867</td><td></td></tr><tr><td>reduced chi-square</td><td> 1.04377183</td><td></td></tr><tr><td>Akaike info crit.</td><td> 7.23817020</td><td></td></tr><tr><td>Bayesian info crit.</td><td> 15.0536808</td><td></td></tr></table><h2>Variables</h2><table><tr><th> name </th><th> value </th><th> standard error </th><th> relative error </th><th> initial value </th><th> min </th><th> max </th><th> vary </th></tr><tr><td> a </td><td>  0.93130094 </td><td>  0.05374994 </td><td> 5.77% </td><td> 1 </td><td>        -inf </td><td>         inf </td><td> True </td></tr><tr><td> b </td><td>  0.39897997 </td><td>  0.27773604 </td><td> 69.61% </td><td> 0 </td><td>        -inf </td><td>         inf </td><td> True </td></tr><tr><td> c </td><td> -0.53449006 </td><td>  0.30046611 </td><td> -56.22% </td><td> 0 </td><td>        -inf </td><td>         inf </td><td> True </td></tr></table><h2>Correlations (unreported correlations are < 0.100)</h2><table><tr><td>a</td><td>b</td><td>-0.9676</td></tr><tr><td>b</td><td>c</td><td>-0.8611</td></tr><tr><td>a</td><td>c</td><td>0.7378</td></tr></table>"
      ],
      "text/plain": [
       "<lmfit.model.ModelResult at 0x7ffd457e4048>"
      ]
     },
     "execution_count": 5,
     "metadata": {},
     "output_type": "execute_result"
    }
   ],
   "source": [
    "#Redefine function\n",
    "def f(x,a,b,c):\n",
    "    return a*x**2 + b*x + c\n",
    "\n",
    "#Fit\n",
    "l_mod = lf.Model(f)\n",
    "params = l_mod.make_params(a=1, b=0, c=0)\n",
    "l_fit = l_mod.fit(ydata, params, x=xdata, weights=weighdata)\n",
    "l_fit"
   ]
  },
  {
   "cell_type": "markdown",
   "metadata": {},
   "source": [
    "You should see identical outputs from these two functions, which is exactly what we want. \n",
    "It seems that splitting up our function should, as we expected, have no effect on our curve fit, and can help make our code more readable.\n",
    "\n",
    "-----\n",
    "\n",
    "What if we want to call one of the intermediate steps?"
   ]
  },
  {
   "cell_type": "code",
   "execution_count": 6,
   "metadata": {},
   "outputs": [
    {
     "ename": "NameError",
     "evalue": "name 'q' is not defined",
     "output_type": "error",
     "traceback": [
      "\u001b[0;31m---------------------------------------------------------------------------\u001b[0m",
      "\u001b[0;31mNameError\u001b[0m                                 Traceback (most recent call last)",
      "\u001b[0;32m<ipython-input-6-d7524e059798>\u001b[0m in \u001b[0;36m<module>\u001b[0;34m\u001b[0m\n\u001b[1;32m      5\u001b[0m     \u001b[0;32mreturn\u001b[0m \u001b[0mq\u001b[0m\u001b[0;34m+\u001b[0m\u001b[0ml\u001b[0m\u001b[0;34m+\u001b[0m\u001b[0mk\u001b[0m\u001b[0;34m\u001b[0m\u001b[0;34m\u001b[0m\u001b[0m\n\u001b[1;32m      6\u001b[0m \u001b[0;34m\u001b[0m\u001b[0m\n\u001b[0;32m----> 7\u001b[0;31m \u001b[0mprint\u001b[0m\u001b[0;34m(\u001b[0m\u001b[0mq\u001b[0m\u001b[0;34m)\u001b[0m\u001b[0;34m\u001b[0m\u001b[0;34m\u001b[0m\u001b[0m\n\u001b[0m",
      "\u001b[0;31mNameError\u001b[0m: name 'q' is not defined"
     ]
    }
   ],
   "source": [
    "def f(x,a,b,c):\n",
    "    q = a*x**2\n",
    "    l = b*x\n",
    "    k = c\n",
    "    return q+l+k\n",
    "\n",
    "print(q)"
   ]
  },
  {
   "cell_type": "markdown",
   "metadata": {},
   "source": [
    "The downside is that we're generally not able to call these intermediate steps -- we need to set them as their own functions if we want to do that.\n",
    "However, if we make one of these steps its own function, we can call it within the function we define:"
   ]
  },
  {
   "cell_type": "code",
   "execution_count": 7,
   "metadata": {},
   "outputs": [],
   "source": [
    "def l(x,b):\n",
    "    return b*x\n",
    "\n",
    "def f(x,a,b,c):\n",
    "    q = a*x**2\n",
    "    k = c\n",
    "    return q+l(x,b)+k #\"l(x,b)\" tells python to operate on the output of l at x and b.\n",
    "                      #trying to operate directly on a function can often lead to errors."
   ]
  },
  {
   "cell_type": "markdown",
   "metadata": {},
   "source": [
    "And to check our work:"
   ]
  },
  {
   "cell_type": "code",
   "execution_count": 8,
   "metadata": {},
   "outputs": [
    {
     "data": {
      "image/png": "[encoded data removed]",
      "text/plain": [
       "<Figure size 648x576 with 1 Axes>"
      ]
     },
     "metadata": {
      "needs_background": "light"
     },
     "output_type": "display_data"
    }
   ],
   "source": [
    "#Fit\n",
    "l_mod = lf.Model(f)\n",
    "params = l_mod.make_params(a=1, b=0, c=0)\n",
    "l_fit = l_mod.fit(ydata, params, x=xdata, weights=weighdata)\n",
    "l_dict = l_fit.best_values\n",
    "l_a = l_dict['a']\n",
    "l_b = l_dict['b']\n",
    "l_c = l_dict['c']\n",
    "l_curve = l_a*xdata**2+l_b*xdata+l_c\n",
    "\n",
    "#Plot\n",
    "fig = plt.figure(figsize=(9.0,8.0))\n",
    "plt.errorbar(xdata,ydata,yerr=sigdata,fmt='bo',label='Data')\n",
    "plt.plot(xdata,f(xdata,1,0,0),label='Function')  #Rather than defining a funciton y with only one variable, we can call f directly while plotting.\n",
    "plt.plot(xdata,l_curve,linestyle='--',label='Fit')\n",
    "plt.legend()\n",
    "plt.show()"
   ]
  },
  {
   "cell_type": "markdown",
   "metadata": {},
   "source": [
    "Excellent! The fit seems to work just fine without having to force it all to fit into one line."
   ]
  }
 ],
 "metadata": {
  "kernelspec": {
   "display_name": "Python 3",
   "language": "python",
   "name": "python3"
  },
  "language_info": {
   "codemirror_mode": {
    "name": "ipython",
    "version": 3
   },
   "file_extension": ".py",
   "mimetype": "text/x-python",
   "name": "python",
   "nbconvert_exporter": "python",
   "pygments_lexer": "ipython3",
   "version": "3.7.3"
  }
 },
 "nbformat": 4,
 "nbformat_minor": 4
}
