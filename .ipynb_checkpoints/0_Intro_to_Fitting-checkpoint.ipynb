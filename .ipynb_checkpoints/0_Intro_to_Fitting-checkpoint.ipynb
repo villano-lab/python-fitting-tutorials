{
 "cells": [
  {
   "cell_type": "markdown",
   "metadata": {},
   "source": [
    "# Creating and Plotting a Curve Fit"
   ]
  },
  {
   "cell_type": "code",
   "execution_count": null,
   "metadata": {},
   "outputs": [],
   "source": [
    "#Imports\n",
    "import numpy as np\n",
    "import lmfit as lf\n",
    "import matplotlib.pyplot as plt\n",
    "import scipy.optimize as opt"
   ]
  },
  {
   "cell_type": "markdown",
   "metadata": {},
   "source": [
    "### Setup\n",
    "\n",
    "Let's set up a simple function *y = f(x) = x<sup>2</sup>*.\n",
    "\n",
    "We'll set up some fake data for this function and fit it using non-linear least squares.</br>\n",
    "This fit will be done using the same method, but in two different python libraries.</br>\n",
    "At the end, we'll compare the function, the data, and the fits that we made."
   ]
  },
  {
   "cell_type": "code",
   "execution_count": null,
   "metadata": {},
   "outputs": [],
   "source": [
    "#Setup - y = f(x) = x^2\n",
    "\n",
    "#Fakedata\n",
    "xdata = np.linspace(0,5,50)                 #Generate x-values\n",
    "ydata = np.zeros(len(xdata))                #Create array to define later\n",
    "noise = np.random.normal(0,1,len(xdata))    #Create nosie to add to y-values; otherwise our fits will be to unrealistic data\n",
    "for i,n in enumerate(xdata):                #Redefine y-data to be:\n",
    "    ydata[i] = n**2+noise[i]                #x^2 plus some noise.\n",
    "sigdata = np.ones(len(xdata))               #Sigma is 1 since that's the width of the noise distribution\n",
    "\n",
    "#Function\n",
    "def f(x,a,b,c):          #Independent variable must be listed first for scipy to know how to fit it.\n",
    "    return a*x**2+b*x+c  #In python, anything unset must be listed as a variable in the function, including the parameters we fit for.\n",
    "\n",
    "#Points representing function - this is necessary to plot f(x) for our comparison.\n",
    "ycurve = xdata**2 "
   ]
  },
  {
   "cell_type": "markdown",
   "metadata": {},
   "source": [
    "### scipy.optimize\n",
    "\n",
    "One of the big advantages of using SciPy is that it is fairly common -- people trying to fit data likely already have it installed, and it may even already be used in the code they're using for data analysis."
   ]
  },
  {
   "cell_type": "code",
   "execution_count": null,
   "metadata": {},
   "outputs": [],
   "source": [
    "#Setup\n",
    "#Initial Guesses for a,b,c. In this case, our initial guess is the true function.\n",
    "p0 = [1,0,0] #Parameters should be in the same order here as they were when we defined our function.\n",
    "\n",
    "#Do fit\n",
    "s_fit = opt.curve_fit(f,xdata,ydata,p0,sigma=sigdata,absolute_sigma=True) #absolute_sigma is set so that uncertainties aren't treated as percentages.\n",
    "#print(s_fit) #If we uncomment this line, we see that s_fit is an array containing two arrays.\n",
    "\n",
    "#Define parameters from fit. Our parameters are stored in the first array in our fit output, in the order they were listed in f.\n",
    "s_a = s_fit[0][0]\n",
    "s_b = s_fit[0][1]\n",
    "s_c = s_fit[0][2]\n",
    "\n",
    "#Define error from fit.\n",
    "s_cov = s_fit[1]                    #The second array in the fit output is a covariance matrix.\n",
    "s_error = np.sqrt(np.diag(s_cov)) #The diagonals of the covariance matrix are the variances of individual parameters.\n",
    "s_ae = s_error[0]                   #The errors will be in an order corresponding to the order of the parameters in their array\n",
    "s_be = s_error[1]\n",
    "s_ce = s_error[2]\n",
    "\n",
    "#Create array to plot\n",
    "s_curve = s_a*xdata**2+s_b*xdata+s_c\n",
    "\n",
    "#Print Values\n",
    "print('a: '+str(s_a)+u' \\u00B1 '+str(s_ae))\n",
    "print('b: '+str(s_b)+u' \\u00B1 '+str(s_be))\n",
    "print('c: '+str(s_c)+u' \\u00B1 '+str(s_ce))"
   ]
  },
  {
   "cell_type": "markdown",
   "metadata": {},
   "source": [
    "### lmfit\n",
    "\n",
    "LmFit is much less common than SciPy because it is built for a much narrower focus; unlike SciPy, LmFit only does curve fitting.</br>\n",
    "However, LmFit has some nice features that SciPy's optimize module does not."
   ]
  },
  {
   "cell_type": "code",
   "execution_count": null,
   "metadata": {},
   "outputs": [],
   "source": [
    "#Setup\n",
    "weighdata = 1/sigdata                       #We will need weights for lmfit. This tells us how much to account for a single data point in the fit.\n",
    "l_mod = lf.Model(f)                         #Tell lmfit that we want to model the function f\n",
    "params = l_mod.make_params(a=1, b=0, c=0)   #Give lmfit our initial guesses - again, the true function\n",
    "\n",
    "#Do fit\n",
    "l_fit = l_mod.fit(ydata, params, x=xdata, weights=weighdata) #Here is where the weights we set at the beginning come in.\n",
    "\n",
    "#Define Stuff\n",
    "l_dict = l_fit.best_values #l_fit has a lot of output. We want to use the final result.\n",
    "l_a = l_dict['a']          #Dictionary items are called based on their name.\n",
    "l_b = l_dict['b']          #So, we don't have to track the order of parameters.\n",
    "l_c = l_dict['c']\n",
    "\n",
    "#Create array to plot\n",
    "l_curve = l_a*xdata**2+l_b*xdata+l_c\n",
    "\n",
    "l_fit #Display information about the fit"
   ]
  },
  {
   "cell_type": "markdown",
   "metadata": {},
   "source": [
    "While SciPy required a bit less setup, the output of LmFit is much nicer. I also find the code for using lmfit more readable.</br>\n",
    "LmFit also contains a bit more information, such as &Chi;<sup>2</sup> values.\n",
    "\n",
    "The parameter values and errors, though, are more or less the same."
   ]
  },
  {
   "cell_type": "markdown",
   "metadata": {},
   "source": [
    "### Plotting\n",
    "\n",
    "Now it's time to plot everything together for comparison."
   ]
  },
  {
   "cell_type": "code",
   "execution_count": null,
   "metadata": {},
   "outputs": [],
   "source": [
    "#Plotting\n",
    "\n",
    "fig = plt.figure(figsize=(9.0,8.0))                #size of the plot\n",
    "\n",
    "plt.errorbar(xdata,ydata,yerr=sigdata,fmt='bo',label='Data') #Plot points (fmt='*o') with error bars\n",
    "plt.plot(xdata,ycurve,label='Function')                      #Accepting default style gives us a solid line\n",
    "plt.plot(xdata,s_curve,linestyle='--',label='SciPy')         #Plot the scipy curve fit with a dashed line\n",
    "plt.plot(xdata,l_curve,linestyle='--',label='LmFit')\n",
    "\n",
    "plt.legend()           #Tells our plot to show a legend\n",
    "plt.show()             #Depending how your environment is set up, this line may not be necessary, but it won't break anything."
   ]
  },
  {
   "cell_type": "markdown",
   "metadata": {},
   "source": [
    "There's no visible difference between our two curve fits -- in fact, we can only see one of them. (If you want to see the other, comment out the one that's visible; they're right on top of each other)."
   ]
  }
 ],
 "metadata": {
  "kernelspec": {
   "display_name": "Python 3",
   "language": "python",
   "name": "python3"
  },
  "language_info": {
   "codemirror_mode": {
    "name": "ipython",
    "version": 3
   },
   "file_extension": ".py",
   "mimetype": "text/x-python",
   "name": "python",
   "nbconvert_exporter": "python",
   "pygments_lexer": "ipython3",
   "version": "3.7.3"
  }
 },
 "nbformat": 4,
 "nbformat_minor": 2
}
