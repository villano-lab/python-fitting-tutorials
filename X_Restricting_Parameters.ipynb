{
 "cells": [
  {
   "cell_type": "markdown",
   "metadata": {},
   "source": [
    "# Restricting Parameter Values\n",
    "\n",
    "Typically, we don't want to restrict our parameter values both because we don't need to and because it can affect our accuracy. However, there may be times where we need to due to some limitation or another.\n",
    "\n",
    "Let's try to fit and plot a function exactly the way we did before, but using a different function this time."
   ]
  },
  {
   "cell_type": "code",
   "execution_count": 2,
   "metadata": {},
   "outputs": [],
   "source": [
    "#Imports\n",
    "import numpy as np\n",
    "import lmfit as lf\n",
    "import matplotlib.pyplot as plt\n",
    "import scipy.optimize as opt"
   ]
  },
  {
   "cell_type": "markdown",
   "metadata": {},
   "source": [
    "### Setup\n",
    "\n",
    "For this demonstration, we're going to set up our function so that two things are true:\n",
    "- The function is undefined in some regions\n",
    "- One of our parameters is close to a value for which the function is undefined at some point within our domain, but the true value won't make the function undefined.\n",
    "\n",
    "The function will be *y = v(r) = (G M r)*<sup>1/2</sup>\n",
    "\n",
    "Our domain is going to be from *r = 0.1* to *r = 5*.</br>\n",
    "Our parameter <i>M</i> is going to be positive and very large.</br>\n",
    "So, our parameter *G* must be positive for the function to stay defined for our entire domain. We will make it very small so that it is near negative numbers, for which the function is not defined across all of our domain."
   ]
  },
  {
   "cell_type": "code",
   "execution_count": 4,
   "metadata": {},
   "outputs": [],
   "source": [
    "#Fakedata\n",
    "rdata = np.linspace(0.1,5,50)\n",
    "ydata = np.zeros(len(rdata))\n",
    "noise = np.random.normal(0,1,len(rdata))\n",
    "for i,n in enumerate(rdata):\n",
    "    ydata[i] = np.sqrt(4.3e-6*2.7e9/n)+noise[i]\n",
    "sigdata = np.ones(len(rdata))\n",
    "weighdata = 1/sigdata\n",
    "\n",
    "#Function\n",
    "def v(r,G,M):\n",
    "    return np.sqrt(G*M/r)\n",
    "\n",
    "#For Plotting\n",
    "ycurve = np.sqrt(4.3e-6*2.7e9/rdata)"
   ]
  },
  {
   "cell_type": "code",
   "execution_count": 5,
   "metadata": {},
   "outputs": [
    {
     "name": "stdout",
     "output_type": "stream",
     "text": [
      "G: 4.267743727769084e-06 ± 4.768293093117614\n",
      "M: 2725117457.7130733 ± 3044737355478474.0\n"
     ]
    },
    {
     "name": "stderr",
     "output_type": "stream",
     "text": [
      "C:\\ProgramData\\Anaconda3\\lib\\site-packages\\ipykernel_launcher.py:12: RuntimeWarning: invalid value encountered in sqrt\n",
      "  if sys.path[0] == '':\n"
     ]
    }
   ],
   "source": [
    "#Initial Guesses\n",
    "p0 = [4.3e-6,2.7e9]\n",
    "bounds = [0,np.inf]\n",
    "\n",
    "#Do fit\n",
    "s_fit = opt.curve_fit(v,rdata,ydata,p0,sigma=sigdata,absolute_sigma=True)\n",
    "\n",
    "#Define parameters from fit. Our parameters are stored in the first array in our fit output, in the order they were listed in f.\n",
    "s_G = s_fit[0][0]\n",
    "s_M = s_fit[0][1]\n",
    "#s_c = s_fit[0][2]\n",
    "\n",
    "#Define error from fit.\n",
    "s_cov = s_fit[1]                    #The second array in the fit output is a covariance matrix.\n",
    "s_error = np.sqrt(np.diag(s_cov)) #The diagonals of the covariance matrix are the variances of individual parameters.\n",
    "s_Ge = s_error[0]                   #The errors will be in an order corresponding to the order of the parameters in their array\n",
    "s_Me = s_error[1]\n",
    "#s_ce = s_error[2]\n",
    "\n",
    "#Create array to plot\n",
    "s_curve = np.sqrt(s_G*s_M/rdata)\n",
    "\n",
    "#Print Values\n",
    "print('G: '+str(s_G)+u' \\u00B1 '+str(s_Ge))\n",
    "print('M: '+str(s_M)+u' \\u00B1 '+str(s_Me))"
   ]
  },
  {
   "cell_type": "markdown",
   "metadata": {},
   "source": [
    "These values aren't bad, although their errors are quite high.\n",
    "We're not going to worry about that for this tutorial, but it's a good thing to keep track of.\n",
    "\n",
    "You should notice, however, that we get a RuntimeWarning. Even though all of our true values are fine, it's getting a negative number within the square root somewhere.\n",
    "\n",
    "Well, it ran, so let's keep going and see how lmfit handles it."
   ]
  },
  {
   "cell_type": "code",
   "execution_count": 7,
   "metadata": {},
   "outputs": [
    {
     "ename": "ValueError",
     "evalue": "The input contains nan values",
     "output_type": "error",
     "traceback": [
      "\u001b[1;31m---------------------------------------------------------------------------\u001b[0m",
      "\u001b[1;31mValueError\u001b[0m                                Traceback (most recent call last)",
      "\u001b[1;32m<ipython-input-7-80882c1a5ae7>\u001b[0m in \u001b[0;36m<module>\u001b[1;34m\u001b[0m\n\u001b[0;32m      4\u001b[0m \u001b[1;33m\u001b[0m\u001b[0m\n\u001b[0;32m      5\u001b[0m \u001b[1;31m#Do fit\u001b[0m\u001b[1;33m\u001b[0m\u001b[1;33m\u001b[0m\u001b[1;33m\u001b[0m\u001b[0m\n\u001b[1;32m----> 6\u001b[1;33m \u001b[0ml_fit\u001b[0m \u001b[1;33m=\u001b[0m \u001b[0ml_mod\u001b[0m\u001b[1;33m.\u001b[0m\u001b[0mfit\u001b[0m\u001b[1;33m(\u001b[0m\u001b[0mydata\u001b[0m\u001b[1;33m,\u001b[0m \u001b[0mparams\u001b[0m\u001b[1;33m,\u001b[0m \u001b[0mr\u001b[0m\u001b[1;33m=\u001b[0m\u001b[0mrdata\u001b[0m\u001b[1;33m,\u001b[0m \u001b[0mweights\u001b[0m\u001b[1;33m=\u001b[0m\u001b[0mweighdata\u001b[0m\u001b[1;33m)\u001b[0m\u001b[1;33m\u001b[0m\u001b[1;33m\u001b[0m\u001b[0m\n\u001b[0m\u001b[0;32m      7\u001b[0m \u001b[1;33m\u001b[0m\u001b[0m\n\u001b[0;32m      8\u001b[0m \u001b[1;31m#Define Stuff\u001b[0m\u001b[1;33m\u001b[0m\u001b[1;33m\u001b[0m\u001b[1;33m\u001b[0m\u001b[0m\n",
      "\u001b[1;32mC:\\ProgramData\\Anaconda3\\lib\\site-packages\\lmfit\\model.py\u001b[0m in \u001b[0;36mfit\u001b[1;34m(self, data, params, weights, method, iter_cb, scale_covar, verbose, fit_kws, nan_policy, calc_covar, **kwargs)\u001b[0m\n\u001b[0;32m   1005\u001b[0m                              \u001b[0mnan_policy\u001b[0m\u001b[1;33m=\u001b[0m\u001b[0mself\u001b[0m\u001b[1;33m.\u001b[0m\u001b[0mnan_policy\u001b[0m\u001b[1;33m,\u001b[0m \u001b[0mcalc_covar\u001b[0m\u001b[1;33m=\u001b[0m\u001b[0mcalc_covar\u001b[0m\u001b[1;33m,\u001b[0m\u001b[1;33m\u001b[0m\u001b[1;33m\u001b[0m\u001b[0m\n\u001b[0;32m   1006\u001b[0m                              **fit_kws)\n\u001b[1;32m-> 1007\u001b[1;33m         \u001b[0moutput\u001b[0m\u001b[1;33m.\u001b[0m\u001b[0mfit\u001b[0m\u001b[1;33m(\u001b[0m\u001b[0mdata\u001b[0m\u001b[1;33m=\u001b[0m\u001b[0mdata\u001b[0m\u001b[1;33m,\u001b[0m \u001b[0mweights\u001b[0m\u001b[1;33m=\u001b[0m\u001b[0mweights\u001b[0m\u001b[1;33m)\u001b[0m\u001b[1;33m\u001b[0m\u001b[1;33m\u001b[0m\u001b[0m\n\u001b[0m\u001b[0;32m   1008\u001b[0m         \u001b[0moutput\u001b[0m\u001b[1;33m.\u001b[0m\u001b[0mcomponents\u001b[0m \u001b[1;33m=\u001b[0m \u001b[0mself\u001b[0m\u001b[1;33m.\u001b[0m\u001b[0mcomponents\u001b[0m\u001b[1;33m\u001b[0m\u001b[1;33m\u001b[0m\u001b[0m\n\u001b[0;32m   1009\u001b[0m         \u001b[1;32mreturn\u001b[0m \u001b[0moutput\u001b[0m\u001b[1;33m\u001b[0m\u001b[1;33m\u001b[0m\u001b[0m\n",
      "\u001b[1;32mC:\\ProgramData\\Anaconda3\\lib\\site-packages\\lmfit\\model.py\u001b[0m in \u001b[0;36mfit\u001b[1;34m(self, data, params, weights, method, nan_policy, **kwargs)\u001b[0m\n\u001b[0;32m   1353\u001b[0m         \u001b[0mself\u001b[0m\u001b[1;33m.\u001b[0m\u001b[0muserkws\u001b[0m\u001b[1;33m.\u001b[0m\u001b[0mupdate\u001b[0m\u001b[1;33m(\u001b[0m\u001b[0mkwargs\u001b[0m\u001b[1;33m)\u001b[0m\u001b[1;33m\u001b[0m\u001b[1;33m\u001b[0m\u001b[0m\n\u001b[0;32m   1354\u001b[0m         \u001b[0mself\u001b[0m\u001b[1;33m.\u001b[0m\u001b[0minit_fit\u001b[0m \u001b[1;33m=\u001b[0m \u001b[0mself\u001b[0m\u001b[1;33m.\u001b[0m\u001b[0mmodel\u001b[0m\u001b[1;33m.\u001b[0m\u001b[0meval\u001b[0m\u001b[1;33m(\u001b[0m\u001b[0mparams\u001b[0m\u001b[1;33m=\u001b[0m\u001b[0mself\u001b[0m\u001b[1;33m.\u001b[0m\u001b[0mparams\u001b[0m\u001b[1;33m,\u001b[0m \u001b[1;33m**\u001b[0m\u001b[0mself\u001b[0m\u001b[1;33m.\u001b[0m\u001b[0muserkws\u001b[0m\u001b[1;33m)\u001b[0m\u001b[1;33m\u001b[0m\u001b[1;33m\u001b[0m\u001b[0m\n\u001b[1;32m-> 1355\u001b[1;33m         \u001b[0m_ret\u001b[0m \u001b[1;33m=\u001b[0m \u001b[0mself\u001b[0m\u001b[1;33m.\u001b[0m\u001b[0mminimize\u001b[0m\u001b[1;33m(\u001b[0m\u001b[0mmethod\u001b[0m\u001b[1;33m=\u001b[0m\u001b[0mself\u001b[0m\u001b[1;33m.\u001b[0m\u001b[0mmethod\u001b[0m\u001b[1;33m)\u001b[0m\u001b[1;33m\u001b[0m\u001b[1;33m\u001b[0m\u001b[0m\n\u001b[0m\u001b[0;32m   1356\u001b[0m \u001b[1;33m\u001b[0m\u001b[0m\n\u001b[0;32m   1357\u001b[0m         \u001b[1;32mfor\u001b[0m \u001b[0mattr\u001b[0m \u001b[1;32min\u001b[0m \u001b[0mdir\u001b[0m\u001b[1;33m(\u001b[0m\u001b[0m_ret\u001b[0m\u001b[1;33m)\u001b[0m\u001b[1;33m:\u001b[0m\u001b[1;33m\u001b[0m\u001b[1;33m\u001b[0m\u001b[0m\n",
      "\u001b[1;32mC:\\ProgramData\\Anaconda3\\lib\\site-packages\\lmfit\\minimizer.py\u001b[0m in \u001b[0;36mminimize\u001b[1;34m(self, method, params, **kws)\u001b[0m\n\u001b[0;32m   1947\u001b[0m                         val.lower().startswith(user_method)):\n\u001b[0;32m   1948\u001b[0m                     \u001b[0mkwargs\u001b[0m\u001b[1;33m[\u001b[0m\u001b[1;34m'method'\u001b[0m\u001b[1;33m]\u001b[0m \u001b[1;33m=\u001b[0m \u001b[0mval\u001b[0m\u001b[1;33m\u001b[0m\u001b[1;33m\u001b[0m\u001b[0m\n\u001b[1;32m-> 1949\u001b[1;33m         \u001b[1;32mreturn\u001b[0m \u001b[0mfunction\u001b[0m\u001b[1;33m(\u001b[0m\u001b[1;33m**\u001b[0m\u001b[0mkwargs\u001b[0m\u001b[1;33m)\u001b[0m\u001b[1;33m\u001b[0m\u001b[1;33m\u001b[0m\u001b[0m\n\u001b[0m\u001b[0;32m   1950\u001b[0m \u001b[1;33m\u001b[0m\u001b[0m\n\u001b[0;32m   1951\u001b[0m \u001b[1;33m\u001b[0m\u001b[0m\n",
      "\u001b[1;32mC:\\ProgramData\\Anaconda3\\lib\\site-packages\\lmfit\\minimizer.py\u001b[0m in \u001b[0;36mleastsq\u001b[1;34m(self, params, **kws)\u001b[0m\n\u001b[0;32m   1490\u001b[0m \u001b[1;33m\u001b[0m\u001b[0m\n\u001b[0;32m   1491\u001b[0m         \u001b[1;32mtry\u001b[0m\u001b[1;33m:\u001b[0m\u001b[1;33m\u001b[0m\u001b[1;33m\u001b[0m\u001b[0m\n\u001b[1;32m-> 1492\u001b[1;33m             \u001b[0mlsout\u001b[0m \u001b[1;33m=\u001b[0m \u001b[0mscipy_leastsq\u001b[0m\u001b[1;33m(\u001b[0m\u001b[0mself\u001b[0m\u001b[1;33m.\u001b[0m\u001b[0m__residual\u001b[0m\u001b[1;33m,\u001b[0m \u001b[0mvariables\u001b[0m\u001b[1;33m,\u001b[0m \u001b[1;33m**\u001b[0m\u001b[0mlskws\u001b[0m\u001b[1;33m)\u001b[0m\u001b[1;33m\u001b[0m\u001b[1;33m\u001b[0m\u001b[0m\n\u001b[0m\u001b[0;32m   1493\u001b[0m         \u001b[1;32mexcept\u001b[0m \u001b[0mAbortFitException\u001b[0m\u001b[1;33m:\u001b[0m\u001b[1;33m\u001b[0m\u001b[1;33m\u001b[0m\u001b[0m\n\u001b[0;32m   1494\u001b[0m             \u001b[1;32mpass\u001b[0m\u001b[1;33m\u001b[0m\u001b[1;33m\u001b[0m\u001b[0m\n",
      "\u001b[1;32mC:\\ProgramData\\Anaconda3\\lib\\site-packages\\scipy\\optimize\\minpack.py\u001b[0m in \u001b[0;36mleastsq\u001b[1;34m(func, x0, args, Dfun, full_output, col_deriv, ftol, xtol, gtol, maxfev, epsfcn, factor, diag)\u001b[0m\n\u001b[0;32m    392\u001b[0m             \u001b[0mmaxfev\u001b[0m \u001b[1;33m=\u001b[0m \u001b[1;36m200\u001b[0m\u001b[1;33m*\u001b[0m\u001b[1;33m(\u001b[0m\u001b[0mn\u001b[0m \u001b[1;33m+\u001b[0m \u001b[1;36m1\u001b[0m\u001b[1;33m)\u001b[0m\u001b[1;33m\u001b[0m\u001b[1;33m\u001b[0m\u001b[0m\n\u001b[0;32m    393\u001b[0m         retval = _minpack._lmdif(func, x0, args, full_output, ftol, xtol,\n\u001b[1;32m--> 394\u001b[1;33m                                  gtol, maxfev, epsfcn, factor, diag)\n\u001b[0m\u001b[0;32m    395\u001b[0m     \u001b[1;32melse\u001b[0m\u001b[1;33m:\u001b[0m\u001b[1;33m\u001b[0m\u001b[1;33m\u001b[0m\u001b[0m\n\u001b[0;32m    396\u001b[0m         \u001b[1;32mif\u001b[0m \u001b[0mcol_deriv\u001b[0m\u001b[1;33m:\u001b[0m\u001b[1;33m\u001b[0m\u001b[1;33m\u001b[0m\u001b[0m\n",
      "\u001b[1;32mC:\\ProgramData\\Anaconda3\\lib\\site-packages\\lmfit\\minimizer.py\u001b[0m in \u001b[0;36m__residual\u001b[1;34m(self, fvars, apply_bounds_transformation)\u001b[0m\n\u001b[0;32m    536\u001b[0m         \u001b[1;32melse\u001b[0m\u001b[1;33m:\u001b[0m\u001b[1;33m\u001b[0m\u001b[1;33m\u001b[0m\u001b[0m\n\u001b[0;32m    537\u001b[0m             return _nan_policy(np.asarray(out).ravel(),\n\u001b[1;32m--> 538\u001b[1;33m                                nan_policy=self.nan_policy)\n\u001b[0m\u001b[0;32m    539\u001b[0m \u001b[1;33m\u001b[0m\u001b[0m\n\u001b[0;32m    540\u001b[0m     \u001b[1;32mdef\u001b[0m \u001b[0m__jacobian\u001b[0m\u001b[1;33m(\u001b[0m\u001b[0mself\u001b[0m\u001b[1;33m,\u001b[0m \u001b[0mfvars\u001b[0m\u001b[1;33m)\u001b[0m\u001b[1;33m:\u001b[0m\u001b[1;33m\u001b[0m\u001b[1;33m\u001b[0m\u001b[0m\n",
      "\u001b[1;32mC:\\ProgramData\\Anaconda3\\lib\\site-packages\\lmfit\\minimizer.py\u001b[0m in \u001b[0;36m_nan_policy\u001b[1;34m(arr, nan_policy, handle_inf)\u001b[0m\n\u001b[0;32m   2164\u001b[0m \u001b[1;33m\u001b[0m\u001b[0m\n\u001b[0;32m   2165\u001b[0m         \u001b[1;32mif\u001b[0m \u001b[0mcontains_nan\u001b[0m\u001b[1;33m:\u001b[0m\u001b[1;33m\u001b[0m\u001b[1;33m\u001b[0m\u001b[0m\n\u001b[1;32m-> 2166\u001b[1;33m             \u001b[1;32mraise\u001b[0m \u001b[0mValueError\u001b[0m\u001b[1;33m(\u001b[0m\u001b[1;34m\"The input contains nan values\"\u001b[0m\u001b[1;33m)\u001b[0m\u001b[1;33m\u001b[0m\u001b[1;33m\u001b[0m\u001b[0m\n\u001b[0m\u001b[0;32m   2167\u001b[0m     \u001b[1;32mreturn\u001b[0m \u001b[0marr\u001b[0m\u001b[1;33m\u001b[0m\u001b[1;33m\u001b[0m\u001b[0m\n\u001b[0;32m   2168\u001b[0m \u001b[1;33m\u001b[0m\u001b[0m\n",
      "\u001b[1;31mValueError\u001b[0m: The input contains nan values"
     ]
    }
   ],
   "source": [
    "#Setup\n",
    "l_mod = lf.Model(v)\n",
    "params = l_mod.make_params(G=4.3e-6,M=2.7e9)\n",
    "\n",
    "#Do fit\n",
    "l_fit = l_mod.fit(ydata, params, r=rdata, weights=weighdata)\n",
    "\n",
    "#Define Stuff\n",
    "l_dict = l_fit.best_values\n",
    "l_G = l_dict['G']\n",
    "l_M = l_dict['M']\n",
    "\n",
    "#Create array to plot\n",
    "l_curve = np.sqrt(l_G*l_M/rdata)\n",
    "\n",
    "l_fit #Display information about the fit"
   ]
  },
  {
   "cell_type": "markdown",
   "metadata": {},
   "source": [
    "It seems lmfit won't run at all."
   ]
  },
  {
   "cell_type": "code",
   "execution_count": 33,
   "metadata": {},
   "outputs": [
    {
     "name": "stdout",
     "output_type": "stream",
     "text": [
      "G: 4.300003489684221e-06 ± 1.1909483580874105e-08\n",
      "M: 2699968190.053765 ± 1.8983611888211082e-23\n"
     ]
    }
   ],
   "source": [
    "#Initial Guesses\n",
    "p0 = [4.3e-6,2.7e9]\n",
    "bounds = [0,np.inf]\n",
    "\n",
    "#Do fit\n",
    "s_fit = opt.curve_fit(v,rdata,ydata,p0,bounds=bounds,sigma=sigdata,absolute_sigma=True) #absolute_sigma is set so that uncertainties aren't treated as percentages.\n",
    "#print(s_fit) #If we uncomment this line, we see that s_fit is an array containing two arrays.\n",
    "\n",
    "#Define parameters from fit. Our parameters are stored in the first array in our fit output, in the order they were listed in f.\n",
    "s_G = s_fit[0][0]\n",
    "s_M = s_fit[0][1]\n",
    "#s_c = s_fit[0][2]\n",
    "\n",
    "#Define error from fit.\n",
    "s_cov = s_fit[1]                    #The second array in the fit output is a covariance matrix.\n",
    "s_error = np.sqrt(np.diag(s_cov)) #The diagonals of the covariance matrix are the variances of individual parameters.\n",
    "s_Ge = s_error[0]                   #The errors will be in an order corresponding to the order of the parameters in their array\n",
    "s_Me = s_error[1]\n",
    "#s_ce = s_error[2]\n",
    "\n",
    "#Create array to plot\n",
    "s_curve = np.sqrt(s_G*s_M/rdata)\n",
    "\n",
    "#Print Values\n",
    "print('G: '+str(s_G)+u' \\u00B1 '+str(s_Ge))\n",
    "print('M: '+str(s_M)+u' \\u00B1 '+str(s_Me))\n",
    "#print('c: '+str(s_c)+u' \\u00B1 '+str(s_ce))"
   ]
  },
  {
   "cell_type": "code",
   "execution_count": 34,
   "metadata": {},
   "outputs": [
    {
     "data": {
      "text/html": [
       "<h2> Model</h2> Model(v) <h2>Fit Statistics</h2><table><tr><td>fitting method</td><td>leastsq</td><td></td></tr><tr><td># function evals</td><td>13</td><td></td></tr><tr><td># data points</td><td>50</td><td></td></tr><tr><td># variables</td><td>2</td><td></td></tr><tr><td>chi-square</td><td> 60.9695346</td><td></td></tr><tr><td>reduced chi-square</td><td> 1.27019864</td><td></td></tr><tr><td>Akaike info crit.</td><td> 13.9175651</td><td></td></tr><tr><td>Bayesian info crit.</td><td> 17.7416111</td><td></td></tr></table><h2>Variables</h2><table><tr><th> name </th><th> value </th><th> standard error </th><th> relative error </th><th> initial value </th><th> min </th><th> max </th><th> vary </th></tr><tr><td> G </td><td>  4.3054e-06 </td><td>  1.19171847 </td><td> 27679492.20% </td><td> 4.3e-06 </td><td>  0.00000000 </td><td>         inf </td><td> True </td></tr><tr><td> M </td><td>  2.6966e+09 </td><td>  7.4599e+14 </td><td> 27664220.42% </td><td> 2700000000.0 </td><td>  0.00000000 </td><td>         inf </td><td> True </td></tr></table><h2>Correlations (unreported correlations are < 0.100)</h2><table><tr><td>G</td><td>M</td><td>-1.0000</td></tr></table>"
      ],
      "text/plain": [
       "<lmfit.model.ModelResult at 0x2d57f5ff2b0>"
      ]
     },
     "execution_count": 34,
     "metadata": {},
     "output_type": "execute_result"
    }
   ],
   "source": [
    "#Setup\n",
    "weighdata = 1/sigdata                       #We will need weights for lmfit. This tells us how much to account for a single data point in the fit.\n",
    "l_mod = lf.Model(v)                         #Tell lmfit that we want to model the function f\n",
    "params = l_mod.make_params()   #Give lmfit our initial guesses - again, the true function\n",
    "params.add('G', value=4.3e-6, min=0)\n",
    "params.add('M', value=2.7e9, min=0)\n",
    "\n",
    "#Do fit\n",
    "l_fit = l_mod.fit(ydata, params, r=rdata, weights=weighdata, nan_policy='omit') #Here is where the weights we set at the beginning come in.\n",
    "\n",
    "#Define Stuff\n",
    "l_dict = l_fit.best_values #l_fit has a lot of output. We want to use the final result.\n",
    "l_G = l_dict['G']          #Dictionary items are called based on their name.\n",
    "l_M = l_dict['M']          #So, we don't have to track the order of parameters.\n",
    "#l_c = l_dict['c']\n",
    "\n",
    "#Create array to plot\n",
    "l_curve = np.sqrt(l_G*rdata+l_M/rdata)\n",
    "\n",
    "l_fit #Display information about the fit"
   ]
  },
  {
   "cell_type": "code",
   "execution_count": 36,
   "metadata": {},
   "outputs": [
    {
     "data": {
      "image/png": "[encoded data removed]",
      "text/plain": [
       "<Figure size 648x576 with 1 Axes>"
      ]
     },
     "metadata": {
      "needs_background": "light"
     },
     "output_type": "display_data"
    }
   ],
   "source": [
    "#Plotting\n",
    "\n",
    "fig = plt.figure(figsize=(9.0,8.0))                #size of the plot\n",
    "\n",
    "plt.errorbar(rdata,ydata,yerr=sigdata,fmt='bo',label='Data') #Plot points (fmt='*o') with error bars\n",
    "plt.plot(rdata,ycurve,label='Function')                      #Accepting default style gives us a solid line\n",
    "plt.plot(rdata,s_curve,linestyle='--',label='SciPy')         #Plot the scipy curve fit with a dashed line\n",
    "plt.plot(rdata,l_curve,linestyle='--',label='LmFit')\n",
    "\n",
    "plt.legend()           #Tells our plot to show a legend\n",
    "plt.show()             #Depending how your environment is set up, this line may not be necessary, but it won't break anything."
   ]
  },
  {
   "cell_type": "code",
   "execution_count": null,
   "metadata": {},
   "outputs": [],
   "source": []
  }
 ],
 "metadata": {
  "kernelspec": {
   "display_name": "Python 3",
   "language": "python",
   "name": "python3"
  },
  "language_info": {
   "codemirror_mode": {
    "name": "ipython",
    "version": 3
   },
   "file_extension": ".py",
   "mimetype": "text/x-python",
   "name": "python",
   "nbconvert_exporter": "python",
   "pygments_lexer": "ipython3",
   "version": "3.7.3"
  }
 },
 "nbformat": 4,
 "nbformat_minor": 2
}
