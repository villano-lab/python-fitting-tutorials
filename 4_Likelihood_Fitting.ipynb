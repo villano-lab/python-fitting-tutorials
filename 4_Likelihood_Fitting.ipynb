{
 "cells": [
  {
   "cell_type": "markdown",
   "metadata": {},
   "source": [
    "# Intro\n",
    "\n",
    "Likelihood is another way of fitting data. Before, we always used $\\chi^2$ as our measure of how good the fit was.\n",
    "However, this relies not only on our model being correct, but also on the uncertainties having a particular distribution (Gaussian).\n",
    "If this is not the case, another fitting method is needed; this is where Likelihood comes in.\n",
    "Rather than assuming that we have Gaussian error and a correct model, \n",
    "we start with a model that seems close to the data, treat it as a guess, then adjust it based on our fit.\n",
    "\n",
    "For now, I am following [this walkthrough](https://ipython-books.github.io/75-fitting-a-probability-distribution-to-data-with-the-maximum-likelihood-method/) as I try to figure out how this works.\n",
    "\n",
    "A side-effect of this is that we now have an additional dependency `statsmodels`. This can be installed through pip or conda."
   ]
  },
  {
   "cell_type": "code",
   "execution_count": 1,
   "metadata": {},
   "outputs": [],
   "source": [
    "# Imports\n",
    "import numpy as np\n",
    "import scipy.stats as st\n",
    "import statsmodels.datasets as ds\n",
    "import matplotlib.pyplot as plt\n",
    "\n",
    "data = ds.heart.load_pandas().data"
   ]
  },
  {
   "cell_type": "markdown",
   "metadata": {},
   "source": [
    "# Checking out our Data\n",
    "\n",
    "What's in the data? Let's find out..."
   ]
  },
  {
   "cell_type": "code",
   "execution_count": 2,
   "metadata": {},
   "outputs": [
    {
     "data": {
      "text/html": [
       "<div>\n",
       "<style scoped>\n",
       "    .dataframe tbody tr th:only-of-type {\n",
       "        vertical-align: middle;\n",
       "    }\n",
       "\n",
       "    .dataframe tbody tr th {\n",
       "        vertical-align: top;\n",
       "    }\n",
       "\n",
       "    .dataframe thead th {\n",
       "        text-align: right;\n",
       "    }\n",
       "</style>\n",
       "<table border=\"1\" class=\"dataframe\">\n",
       "  <thead>\n",
       "    <tr style=\"text-align: right;\">\n",
       "      <th></th>\n",
       "      <th>survival</th>\n",
       "      <th>censors</th>\n",
       "      <th>age</th>\n",
       "    </tr>\n",
       "  </thead>\n",
       "  <tbody>\n",
       "    <tr>\n",
       "      <td>64</td>\n",
       "      <td>14.0</td>\n",
       "      <td>1.0</td>\n",
       "      <td>40.3</td>\n",
       "    </tr>\n",
       "    <tr>\n",
       "      <td>65</td>\n",
       "      <td>167.0</td>\n",
       "      <td>0.0</td>\n",
       "      <td>26.7</td>\n",
       "    </tr>\n",
       "    <tr>\n",
       "      <td>66</td>\n",
       "      <td>110.0</td>\n",
       "      <td>0.0</td>\n",
       "      <td>23.7</td>\n",
       "    </tr>\n",
       "    <tr>\n",
       "      <td>67</td>\n",
       "      <td>13.0</td>\n",
       "      <td>0.0</td>\n",
       "      <td>28.9</td>\n",
       "    </tr>\n",
       "    <tr>\n",
       "      <td>68</td>\n",
       "      <td>1.0</td>\n",
       "      <td>0.0</td>\n",
       "      <td>35.2</td>\n",
       "    </tr>\n",
       "  </tbody>\n",
       "</table>\n",
       "</div>"
      ],
      "text/plain": [
       "    survival  censors   age\n",
       "64      14.0      1.0  40.3\n",
       "65     167.0      0.0  26.7\n",
       "66     110.0      0.0  23.7\n",
       "67      13.0      0.0  28.9\n",
       "68       1.0      0.0  35.2"
      ]
     },
     "execution_count": 2,
     "metadata": {},
     "output_type": "execute_result"
    }
   ],
   "source": [
    "data.tail()"
   ]
  },
  {
   "cell_type": "code",
   "execution_count": 3,
   "metadata": {},
   "outputs": [
    {
     "name": "stdout",
     "output_type": "stream",
     "text": [
      "    survival  censors   age\n",
      "0       15.0      1.0  54.3\n",
      "1        3.0      1.0  40.4\n",
      "2      624.0      1.0  51.0\n",
      "3       46.0      1.0  42.5\n",
      "4      127.0      1.0  48.0\n",
      "..       ...      ...   ...\n",
      "64      14.0      1.0  40.3\n",
      "65     167.0      0.0  26.7\n",
      "66     110.0      0.0  23.7\n",
      "67      13.0      0.0  28.9\n",
      "68       1.0      0.0  35.2\n",
      "\n",
      "[69 rows x 3 columns]\n"
     ]
    }
   ],
   "source": [
    "print(data)"
   ]
  },
  {
   "cell_type": "markdown",
   "metadata": {},
   "source": [
    "This shows us that `.tail()` is giving just the last five points in the set. This data is from a study on heart transplants; the age and life expectancies of patients who underwent heart transplants were recorded.\n",
    "\n",
    "We see that the first column is an index. The `survival` column has units of days, and the `age` column has units of years. `censors` is essentially a boolean; if the value is 1, the patient died by the end of the study, and if the value is 0, then the survival data is days until the end of the study rather than days until their death.\n",
    "\n",
    "Now, let's plot the data:"
   ]
  },
  {
   "cell_type": "code",
   "execution_count": 7,
   "metadata": {},
   "outputs": [
    {
     "data": {
      "text/plain": [
       "Text(0, 0.5, 'Number of Patients')"
      ]
     },
     "execution_count": 7,
     "metadata": {},
     "output_type": "execute_result"
    },
    {
     "data": {
      "image/png": "[encoded data removed]",
      "text/plain": [
       "<Figure size 720x288 with 2 Axes>"
      ]
     },
     "metadata": {
      "needs_background": "light"
     },
     "output_type": "display_data"
    }
   ],
   "source": [
    "survival = data.survival #Since our data has multiple axes, we need to limit it to index and the data of interest.\n",
    "\n",
    "fig, (ax1, ax2) = plt.subplots(1,2,figsize=(10,4)) #Define the plotting area\n",
    "\n",
    "ax1.plot(sorted(survival)[::-1], 'o') #The data for the left plot will have patients on the x-axis sorted by their survival time, starting at the greatest and decreasing.\n",
    "ax1.set_xlabel('Patient Survival Rank')\n",
    "ax1.set_ylabel('Survival Time (Days)')\n",
    "\n",
    "ax2.hist(survival, bins=15)            #Make a bin with values 15 wide\n",
    "ax2.set_xlabel('Survival Time (Days)') #Note that our axes are reversed from ax1\n",
    "ax2.set_ylabel('Number of Patients')"
   ]
  },
  {
   "cell_type": "markdown",
   "metadata": {},
   "source": [
    "This time we used subplots; this lets us arrange multiple plots side-by-side instead of having one per code cell.\n",
    "\n",
    "What we see is that longer survival times are less common. Some of our participants, though, could have survived years but been marked down as one week because we don't have any data past the end of the study. Let's limit it to those for whom we know the survival time is accurate:"
   ]
  },
  {
   "cell_type": "code",
   "execution_count": 8,
   "metadata": {},
   "outputs": [
    {
     "data": {
      "text/plain": [
       "Text(0, 0.5, 'Number of Patients')"
      ]
     },
     "execution_count": 8,
     "metadata": {},
     "output_type": "execute_result"
    },
    {
     "data": {
      "image/png": "[encoded data removed]",
      "text/plain": [
       "<Figure size 720x288 with 2 Axes>"
      ]
     },
     "metadata": {
      "needs_background": "light"
     },
     "output_type": "display_data"
    }
   ],
   "source": [
    "data = data[data.censors == 1] #Limit our data to points for which the value of the \"censors\" column is 1.\n",
    "survival = data.survival       #Update values to the limit we just set.\n",
    "\n",
    "#Plot\n",
    "fig, (ax1, ax2) = plt.subplots(1,2,figsize=(10,4))\n",
    "\n",
    "ax1.plot(sorted(survival)[::-1], 'o')\n",
    "ax1.set_xlabel('Patient Survival Rank')\n",
    "ax1.set_ylabel('Survival Time (Days)')\n",
    "\n",
    "ax2.hist(survival, bins=15)\n",
    "ax2.set_xlabel('Survival Time (Days)')\n",
    "ax2.set_ylabel('Number of Patients')"
   ]
  },
  {
   "cell_type": "markdown",
   "metadata": {},
   "source": [
    "We still have a decreasing trend, but it's decreasing much more rapidly. (Fortunatley, this is old data and our techniques have gotten much better!)\n",
    "\n",
    "# Determining our Model\n",
    "\n",
    "Now we get into the likelihood fitting. The first thing we need to do is choose a model; let's start with an exponentially decreasing function $y = Ae^{-x/\\lambda}$. This will give us the following likelihood function:\n",
    "$$ \\mathscr{L}(\\lambda,\\{s_i\\}) = P(\\{s_i\\} | \\lambda) = \\lambda^nexp(-\\lambda n\\bar{s})$$\n",
    "Where $\\bar{s}$ is the mean of the survival time:\n",
    "$$ \\bar{s} = \\frac{1}{n}\\sum s_i $$\n",
    "\n",
    "The maximum value of the likelihood is $\\lambda = 1/s$.\n",
    "\n",
    "Let's go ahead and define some of the stuff we just talked about:"
   ]
  },
  {
   "cell_type": "code",
   "execution_count": 9,
   "metadata": {},
   "outputs": [],
   "source": [
    "smean = survival.mean()\n",
    "rate = 1./smean"
   ]
  },
  {
   "cell_type": "markdown",
   "metadata": {},
   "source": [
    "# Preliminary Fitting Work\n",
    "\n",
    "Now we're going to do some miscellaneous preliminary work. First, we want to generate points for plotting over the x-axis:"
   ]
  },
  {
   "cell_type": "code",
   "execution_count": 10,
   "metadata": {},
   "outputs": [],
   "source": [
    "smax = survival.max()\n",
    "days = np.linspace(0.,smax,1000) #generate a thousand points between 0 and the maximum survival time\n",
    "# bin size: interval between two\n",
    "# consecutive values in \"days\"\n",
    "dt = smax / 999"
   ]
  },
  {
   "cell_type": "markdown",
   "metadata": {},
   "source": [
    "Rather than rewriting the whole exponential distribution, let's pull it from SciPy:"
   ]
  },
  {
   "cell_type": "code",
   "execution_count": 11,
   "metadata": {},
   "outputs": [],
   "source": [
    "dist_exp = st.expon.pdf(days, scale=1./rate)"
   ]
  },
  {
   "cell_type": "markdown",
   "metadata": {},
   "source": [
    "Replot the histogram, adding the new distribution:"
   ]
  },
  {
   "cell_type": "code",
   "execution_count": 16,
   "metadata": {},
   "outputs": [
    {
     "data": {
      "image/png": "[encoded data removed]",
      "text/plain": [
       "<Figure size 432x288 with 1 Axes>"
      ]
     },
     "metadata": {
      "needs_background": "light"
     },
     "output_type": "display_data"
    }
   ],
   "source": [
    "nbins = 30\n",
    "#fig,ax = plt.subplots(1,1,figsize=(6,4))\n",
    "plt.hist(survival,nbins)\n",
    "plt.plot(days, dist_exp * len(survival) * smax /nbins, '-r', lw=3)\n",
    "plt.xlabel(\"Survival Time (Days)\")\n",
    "plt.ylabel(\"Numer of Patients\")\n",
    "plt.show()"
   ]
  },
  {
   "cell_type": "markdown",
   "metadata": {},
   "source": [
    "While in this case we were able to find the maximum likelihood analytically, we will often need to work numerically.\n",
    "Let's estimate the parameters using SciPy:"
   ]
  },
  {
   "cell_type": "code",
   "execution_count": 17,
   "metadata": {},
   "outputs": [
    {
     "data": {
      "text/plain": [
       "(1.0, 222.2888888888889)"
      ]
     },
     "execution_count": 17,
     "metadata": {},
     "output_type": "execute_result"
    }
   ],
   "source": [
    "dist = st.expon\n",
    "args = dist.fit(survival)\n",
    "args"
   ]
  },
  {
   "cell_type": "markdown",
   "metadata": {},
   "source": [
    "Left off at step 7"
   ]
  }
 ],
 "metadata": {
  "kernelspec": {
   "display_name": "Python 3",
   "language": "python",
   "name": "python3"
  },
  "language_info": {
   "codemirror_mode": {
    "name": "ipython",
    "version": 3
   },
   "file_extension": ".py",
   "mimetype": "text/x-python",
   "name": "python",
   "nbconvert_exporter": "python",
   "pygments_lexer": "ipython3",
   "version": "3.7.4"
  }
 },
 "nbformat": 4,
 "nbformat_minor": 4
}
